{
 "cells": [
  {
   "cell_type": "markdown",
   "metadata": {},
   "source": [
    "<!-- \n",
    "\n",
    "author:  Michelle P. Kuchera\n",
    "created: 18 Aug 2016\n",
    "license: This code is released under the GNU GPL. Please feel free to use, modify, re-release at your will. You can not construct closed-source or proprietary software with this code. Please contact me if this is your desire.\n",
    "\n",
    "-->\n",
    "![Jupyter logo](http://jupyter.org/assets/main-logo.svg)\n",
    "\n",
    "# Lab 0: Introduction to Jupyter Notebooks\n",
    "\n",
    "### Welcome to your (maybe) first **Jupyter notebook**!\n",
    "\n",
    "We will be using Jupyter notebooks to work through labs in this class. Today, we will work through the many features of a Jupyter notebook.\n",
    "\n",
    "While the notebooks support computation, **Do not fret!**\n",
    "You will *not* have to learn to code in this class. You may be given code that you are asked to run, change parameters, and interpret results. For those that are excited about computation, **rejoice!** There are plenty of opportunities to play with examples. Any code that I have written is free to use, modify, and re-release in any way that is non-commercial.\n",
    "\n",
    "The goal of using code in this class is to become comfortable with running and editing code while obtaining a deeper understanding of physics.\n",
    "\n",
    "Today, we will go through a brief overview of the python language and using it within a Jupyter notebook.\n",
    "\n",
    "## Let's get started. \n",
    "\n",
    "From the Jupyter [documentation](http://jupyter.readthedocs.io/en/latest/index.html):\n",
    "\n",
    "> First and foremost, the Jupyter Notebook is an interactive environment for writing and running code. The notebook is capable of running code in a wide range of languages. However, each notebook is associated with a single kernel.\n",
    "\n",
    "However, in this class, we will mainly use the Jupyter notebook to work through laboratory instructions and type responses to questions. \n",
    "\n",
    "There will be some code written for you, so let's take a look at how to work with python code.\n",
    "\n",
    "\n",
    "### Code cells allow you to enter and run code\n",
    "You run code by holding `Shift` + `Enter`.\n",
    "\n",
    "#### 1) Try this with the python code below.\n"
   ]
  },
  {
   "cell_type": "code",
   "execution_count": null,
   "metadata": {},
   "outputs": [],
   "source": [
    "a = 6\n",
    "b = 2\n",
    "c = a+b\n",
    "print(c)"
   ]
  },
  {
   "cell_type": "markdown",
   "metadata": {},
   "source": [
    "#### 2) Now, try to change a value of `a` or `b` above and re-run.\n",
    "\n",
    "### A *comment* is a non-code note within code. In python, a comment is preceded by a `#` for single-line comments.\n",
    "\n",
    "Comments are useful as notes to yourself (the programmer), and/or notes to a user of your code. \n",
    "\n",
    "Below, the code from the first cell is reproduced with helpful comments.\n",
    "\n",
    "#### 3) Run this code again and note that the addition of the comments did not change the execution of the code"
   ]
  },
  {
   "cell_type": "code",
   "execution_count": null,
   "metadata": {},
   "outputs": [],
   "source": [
    "# The following is simple python code, with comments, for adding two variables together\n",
    "a = 6 # assigning the value of 6 to variable a\n",
    "b = 2 # assigning the value 2 to the variable b\n",
    "c = a+b # adding the variables a and b and storing the result in c\n",
    "print(c) # printing the contents of c to the screen, right below the cell"
   ]
  },
  {
   "cell_type": "markdown",
   "metadata": {},
   "source": [
    "### A *function* is a block of code that can be called at any point after it has been evaluated"
   ]
  },
  {
   "cell_type": "code",
   "execution_count": null,
   "metadata": {
    "collapsed": true
   },
   "outputs": [],
   "source": [
    "def add(a,b): # a function is indicated by def. We named this function add. It takes two values as arguments\n",
    "    c = a+b   # we add the two values that were passed into the function\n",
    "    return c  # and return the result"
   ]
  },
  {
   "cell_type": "code",
   "execution_count": null,
   "metadata": {},
   "outputs": [],
   "source": [
    "answer = add(6,2)    # We store the result of add into a new variable answer\n",
    "print(answer)\n",
    "answer = add(5,100)  # We overwrote the variable answer with the new value\n",
    "print(answer)        \n",
    "test = add('h','i')  # The + sign concatenates other data types, such as characters, rather that adding them\n",
    "print(test)"
   ]
  },
  {
   "cell_type": "markdown",
   "metadata": {},
   "source": [
    "### The python language itself does not contain all of the mathematics and visualization that we would be interested in for exploring physics.\n",
    "\n",
    "### To take advantage of the math and visualization that is useful to us in this course, we can to use python packages. These contain *modules*, which are files that define *objects* and *functions* that we will use this semester.\n",
    "\n",
    "Let's start with `SymPy`, a package for symbolic (rather than numeric) calculations.\n",
    "#### 4) We must `import` the package of interest:"
   ]
  },
  {
   "cell_type": "code",
   "execution_count": null,
   "metadata": {
    "collapsed": true
   },
   "outputs": [],
   "source": [
    "from sympy.interactive import printing # for pretty printing of variables, etc\n",
    "printing.init_printing(use_latex='mathjax') # specifying what type of pretty printing (this will be LaTeX)\n",
    "# now import the package and define a namespace, sym, that will precede the function calls from the sympy function\n",
    "import sympy as sym "
   ]
  },
  {
   "cell_type": "markdown",
   "metadata": {},
   "source": [
    "#### 5) Now, let's use the package in a simple example"
   ]
  },
  {
   "cell_type": "code",
   "execution_count": null,
   "metadata": {},
   "outputs": [],
   "source": [
    "x = sym.symbols(\"x\") # defining x as a variable\n",
    "sym.Integral(1/x,x) # Calling the Integral function within sympy, this defines our integral"
   ]
  },
  {
   "cell_type": "code",
   "execution_count": null,
   "metadata": {},
   "outputs": [],
   "source": [
    "sym.integrate(1/x,x) # Calling the itegrate function within sympy, which symbolically integrates the function"
   ]
  },
  {
   "cell_type": "markdown",
   "metadata": {},
   "source": [
    "### The three most commonly used python packages for scientific computing are `math` (for math functions), `numpy` (for arrays), and `matplotlib` (for plotting).\n",
    "In fact, you will sometimes see numpy and matplotlib imported together as one package called `scipy`.\n",
    "\n",
    "#### 4) Let's use these three libraries to visualize an electric field. Run the following code and look at the plot that is generated."
   ]
  },
  {
   "cell_type": "code",
   "execution_count": null,
   "metadata": {
    "collapsed": true
   },
   "outputs": [],
   "source": [
    "%matplotlib inline\n",
    "import numpy as np\n",
    "import matplotlib.pyplot as mpl\n",
    "\n",
    "# One point charge\n",
    "qr = [(0.0,0.0,1.0)]  # x, y, Q. Assume the given charges are in nC\n",
    "k = (9E9) * (1E-9)    # Will yield E in units of Volts/meter, and V in Volts.\n",
    "radius = 0.2         # \"dead zone\" to prevent calculating E or V on top of a charge\n",
    "x = np.arange(-10.0,10.0,0.2)\n",
    "y = np.arange(-10.0,10.0,0.2)\n",
    "X,Y = np.meshgrid(x,y)\n",
    "\n",
    "def Efield(x, y, qr):\n",
    "    Ex = 0.0\n",
    "    Ey = 0.0\n",
    "    for q in qr:\n",
    "        if ((x-q[0])**2 + (y-q[1])**2 > radius**2):   # a safety \"dead zone\"\n",
    "            Ex += k*q[2]*(x-q[0])/pow((x-q[0])**2 + (y-q[1])**2, 1.5)\n",
    "            Ey += k*q[2]*(y-q[1])/pow((x-q[0])**2 + (y-q[1])**2, 1.5)\n",
    "    return Ex, Ey"
   ]
  },
  {
   "cell_type": "code",
   "execution_count": null,
   "metadata": {
    "collapsed": true
   },
   "outputs": [],
   "source": [
    "def Plots(qr, title = \"\"):\n",
    "    Earr = np.array([[Efield(ix,iy,qr) for ix in x] for iy in y])\n",
    "    mpl.streamplot(x,y,Earr[:,:,0], Earr[:,:,1], color=\"#808080\", density=2)\n",
    "    for q in qr:\n",
    "        mpl.plot(q[0],q[1],'o',ms=20,color=\"#b00000\")\n",
    "    mpl.xlim(-5.0, 5.0)\n",
    "    mpl.ylim(-5.0, 5.0)\n",
    "    mpl.xlabel(\"$x$\")\n",
    "    mpl.ylabel(\"$y$\")\n",
    "    mpl.title(title)\n",
    "    mpl.show()"
   ]
  },
  {
   "cell_type": "code",
   "execution_count": null,
   "metadata": {},
   "outputs": [],
   "source": [
    "qr = []\n",
    "qr.append((0.0, 0.0, 1.0))\n",
    "\n",
    "Plots(qr, title = \"Electric Field Lines \\nfor a Point Charge\")"
   ]
  },
  {
   "cell_type": "markdown",
   "metadata": {
    "collapsed": true
   },
   "source": [
    "#### 5) Let's add another charge of opposite sign to our plot. To do this, copy and paste the qr.append() line immediately after it. Change the values and observe how the plot changes. \n",
    "\n",
    "#### 6) In the cell below, write a) observations that you had about the physics of the above example, and b) any thoughts about the code for this example. The cell is designated as a *Markdown* cell, please feel free to search the internet for Markdown formatting and use it if you like."
   ]
  },
  {
   "cell_type": "markdown",
   "metadata": {
    "collapsed": true
   },
   "source": [
    "<font color=\"blue\">\n",
    "Double click to type your response here! \n",
    "`Shift` + `Enter` to execute"
   ]
  },
  {
   "cell_type": "markdown",
   "metadata": {},
   "source": [
    "Have you heard of $\\LaTeX$? That works here too! Write $\\LaTex$ code inside of `$ $` or `$$ $$`:\n",
    "\n",
    "inline equations: $\\sum_{n=0}^\\infty x$\n",
    "\n",
    "featured equations: $$\\sum_{n=0}^\\infty x$$"
   ]
  },
  {
   "cell_type": "markdown",
   "metadata": {
    "collapsed": true
   },
   "source": [
    "<font color=\"blue\">\n",
    "Try here, if you like"
   ]
  },
  {
   "cell_type": "markdown",
   "metadata": {
    "collapsed": true
   },
   "source": [
    "**You can add an image to your notebook with the markdown `![image](filename.jpg)` or with html if you would like to change things like size `<img src=\"filename.jpg\" width=\"50%\" />`**\n",
    "\n",
    "In the cell below, find an image on the internet, save it to the same folder as this file, and add it to your notebook."
   ]
  },
  {
   "cell_type": "markdown",
   "metadata": {},
   "source": [
    "<font color=\"blue\">\n",
    "Type your markdown here!"
   ]
  },
  {
   "cell_type": "markdown",
   "metadata": {},
   "source": [
    "## Now, some final notes about the Jupyter notebooks:\n",
    "* Jupyter notebook files are designated by the *.ipynb* extension.\n",
    "* We can download notebooks in other formats, but they will not be executable.\n",
    "* The notebooks run *locally* (on your computer) in a web browser.\n",
    "* When the notebook application is launched, a local notebook server runs.\n",
    "* For each notebook you open, an iPython *kernel* starts running.\n",
    "* The kernel does *not* stop running when the browser tab is closed.\n",
    "* Make sure to shutdown each kernel that you begin, either from the notebook itself or the dashboard.\n",
    "\n",
    "\n",
    "## I hope you had fun working through this Jupyter notebook! \n",
    "\n",
    "### 7) To submit your work, save this file as lastname_intro.ipynb. Place this file and any other files that you used for this lab (i.e. your image file!), zip up this folder and submit on Moodle."
   ]
  },
  {
   "cell_type": "code",
   "execution_count": null,
   "metadata": {
    "collapsed": true
   },
   "outputs": [],
   "source": []
  }
 ],
 "metadata": {
  "anaconda-cloud": {},
  "kernelspec": {
   "display_name": "Python [default]",
   "language": "python",
   "name": "python3"
  },
  "language_info": {
   "codemirror_mode": {
    "name": "ipython",
    "version": 3
   },
   "file_extension": ".py",
   "mimetype": "text/x-python",
   "name": "python",
   "nbconvert_exporter": "python",
   "pygments_lexer": "ipython3",
   "version": "3.5.2"
  }
 },
 "nbformat": 4,
 "nbformat_minor": 1
}
