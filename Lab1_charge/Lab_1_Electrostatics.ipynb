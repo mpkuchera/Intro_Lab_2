{
 "cells": [
  {
   "cell_type": "markdown",
   "metadata": {},
   "source": [
    "<!-- \n",
    "\n",
    "author:  Michelle P. Kuchera\n",
    "created: 18 Aug 2016\n",
    "license: This code is released under the GNU GPL. Please feel free to use, modify, re-release at your will. You can not construct closed-source or proprietary software with this code. Please contact me (mikuchera@davidson.edu) if this is your desire.\n",
    "\n",
    "-->\n",
    "\n",
    "\n",
    "# Lab 1: Electrostatics\n",
    "\n",
    "## Lab 1 Exercise 1: Coulomb's Law\n",
    "\n",
    "Here we inspect of the motion of a free particle due to stationary charges.\n",
    "\n",
    "Take a look at the **trinket** in the link below. Click &#9654; to run the code. Look at the code and figure out how to set up the system to have two positive and two negative charges (ask for help!). Imagine that these are static charges, i/e they won't move.\n",
    "\n",
    "Click the following link to view the Trinket in the web browser.\n",
    "\n",
    "https://trinket.io/glowscript/9256fa48cb\n",
    "\n",
    "1) Arrange this system so that if a non-static test (+) charge was placed in the center of the screen, it would not move.\n",
    "\n",
    "2) Now arrange them such that a non-static, positive, test charge would move in the direction of the top of the screen.\n",
    "\n",
    "Take screenshots of the diagrams and add below (remember to save the images to the same folder as this file!). For 2), either add the test charge in <span style=\"color:green\">green</span> via code, or edit your image to show where it must be placed for it to move upwards.\n",
    "\n"
   ]
  },
  {
   "cell_type": "markdown",
   "metadata": {},
   "source": [
    "<font color=\"blue\">\n",
    "Double click to write text here!"
   ]
  },
  {
   "cell_type": "markdown",
   "metadata": {},
   "source": [
    "## Lab 1 Exercise 2: Sticky Tape Electrostatics\n",
    "\n",
    "### Introduction\n",
    "<img src=\"fur.jpg\" width=\"40%\" />\n",
    "\n",
    "Many students are familiar with the notion of electric charge, but have little or no experience observing electrical effects first hand.  In this lab, you will have the opportunity to get this experience by using readily available materials.  You will be using Scotch Magic Tape to construct a low budget electroscope and to perform experiments that provide evidence for the following statements:\n",
    "\n",
    "There are two types of charge.\n",
    "Like charges repel.\n",
    "Unlike charges attract.\n",
    "The electric force between two charged objects depends strongly on the distance between them.\n",
    "\n",
    "### Procedure\n",
    "1) Tear off a 20 cm piece of tape and press it firmly to a tabletop or other flat surface, leaving one end of the tape sticking up as a handle. Quickly pull the tape from the table, suspending it in the air. While holding the tape, bring your finger near to the tape without touching it.  **Describe the interaction between your finger and the tape and  discuss why the interaction occurred.**"
   ]
  },
  {
   "cell_type": "markdown",
   "metadata": {},
   "source": [
    "<font color=blue>\n",
    "Double click to type your response here!"
   ]
  },
  {
   "cell_type": "markdown",
   "metadata": {},
   "source": [
    "2) This interaction is an indication that the tape has acquired a \"charge\".  **Why would ripping tape from a table leave the tape charged?**"
   ]
  },
  {
   "cell_type": "markdown",
   "metadata": {},
   "source": [
    "<font color=blue>\n",
    "Type your response here!"
   ]
  },
  {
   "cell_type": "markdown",
   "metadata": {},
   "source": [
    "3) Now charge another piece of tape in an identical way.  Hold the two pieces of tape so they are both suspended close together, but not touching.  **How do the two charged tapes interact?**"
   ]
  },
  {
   "cell_type": "markdown",
   "metadata": {},
   "source": [
    "<font color=blue>\n",
    "Type your response here!"
   ]
  },
  {
   "cell_type": "markdown",
   "metadata": {},
   "source": [
    "4) Tear off two more pieces of tape and press the sticky side of one (top tape) against the smooth side of the other (bottom tape), leaving one end of each tape sticking out as a handle. Quickly pull the tapes apart and  then bring the tapes close together. **How do these two tapes interact?**"
   ]
  },
  {
   "cell_type": "markdown",
   "metadata": {},
   "source": [
    "<font color=blue>\n",
    "Type your response here!"
   ]
  },
  {
   "cell_type": "markdown",
   "metadata": {
    "collapsed": true
   },
   "source": [
    "5) Bring your finger near each tape.  **Describe the interaction between your finger and the top and bottom tape and discuss why the interaction occurred.**"
   ]
  },
  {
   "cell_type": "markdown",
   "metadata": {},
   "source": [
    "<font color=blue>\n",
    "Type your response here!"
   ]
  },
  {
   "cell_type": "markdown",
   "metadata": {},
   "source": [
    "6) **Do the experiments support the four statements given in the introduction?  If so explain your reasoning.  If not, design and carry out further experiments to support or refute the statements.**"
   ]
  },
  {
   "cell_type": "markdown",
   "metadata": {},
   "source": [
    "<font color=blue>\n",
    "Type your response here!"
   ]
  },
  {
   "cell_type": "markdown",
   "metadata": {},
   "source": [
    "7) It is known that if you rub glass and silk the glass will become positively charged and that if you rub rubber and fur the rubber will become negatively charged. Try this with the provided glass and rubber.\n",
    "\n",
    "8) **Use this information to determine the sign of charge on the top and bottom tapes and the original tape pulled from the table.  Explain the process you used.**"
   ]
  },
  {
   "cell_type": "markdown",
   "metadata": {},
   "source": [
    "<font color=blue>\n",
    "Type your response here!"
   ]
  },
  {
   "cell_type": "markdown",
   "metadata": {},
   "source": [
    "9) Suppose you were given an object with unknown charge.  **Describe a procedure you could follow, using the top and bottom tapes, to determine if the object has a positive or negative charge or is neutral.**"
   ]
  },
  {
   "cell_type": "markdown",
   "metadata": {},
   "source": [
    "<font color=blue>\n",
    "Type your response here!"
   ]
  },
  {
   "cell_type": "markdown",
   "metadata": {},
   "source": [
    "## Some reminers about the Jupyter notebooks:\n",
    "#### Jupyter notebook files are designated by the *.ipynb* extension.\n",
    "#### We can download notebooks in other formats, but they will not be executable.\n",
    "#### The notebooks run *locally* (on your computer) in a web browser.\n",
    "#### When the notebook application is launched, a local notebook server runs.\n",
    "#### For each notebook you open, an iPython *kernel* starts running.\n",
    "#### The kernel does *not* stop running when the browser tab is closed.\n",
    "#### Make sure to shutdown each kernel that you begin, either from the notebook itself or the dashboard.\n",
    "\n",
    "## I hope you had fun working through this Jupyter notebook! \n",
    "\n",
    "#### 7) Save this file as lastname_Electrostatics.ipynb, zip up the containing folder, which should include all files from this lab, and submit on Moodle."
   ]
  },
  {
   "cell_type": "code",
   "execution_count": null,
   "metadata": {
    "collapsed": true
   },
   "outputs": [],
   "source": []
  },
  {
   "cell_type": "code",
   "execution_count": null,
   "metadata": {
    "collapsed": true
   },
   "outputs": [],
   "source": []
  }
 ],
 "metadata": {
  "anaconda-cloud": {},
  "kernelspec": {
   "display_name": "Python [default]",
   "language": "python",
   "name": "python3"
  },
  "language_info": {
   "codemirror_mode": {
    "name": "ipython",
    "version": 3
   },
   "file_extension": ".py",
   "mimetype": "text/x-python",
   "name": "python",
   "nbconvert_exporter": "python",
   "pygments_lexer": "ipython3",
   "version": "3.5.2"
  }
 },
 "nbformat": 4,
 "nbformat_minor": 1
}
